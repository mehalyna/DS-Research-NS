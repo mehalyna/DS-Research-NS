{
 "cells": [
  {
   "cell_type": "markdown",
   "id": "f6c35901",
   "metadata": {},
   "source": [
    "# Coffee Health Dataset Visualization\n",
    "\n",
    "This notebook provides an interactive way to explore the synthetic coffee health dataset with 10,000 records.\n",
    "\n",
    "## Dataset Overview\n",
    "The dataset contains information about coffee consumption habits and health metrics including:\n",
    "- Demographics (age, gender, country)\n",
    "- Coffee consumption (intake, caffeine)\n",
    "- Health metrics (BMI, heart rate, sleep)\n",
    "- Lifestyle factors (stress, activity, smoking, alcohol)"
   ]
  },
  {
   "cell_type": "code",
   "execution_count": null,
   "id": "db2dd9ce",
   "metadata": {},
   "outputs": [],
   "source": [
    "# Import required libraries\n",
    "import pandas as pd\n",
    "import matplotlib.pyplot as plt\n",
    "import seaborn as sns\n",
    "import numpy as np\n",
    "\n",
    "# Set up plotting style\n",
    "plt.style.use('default')\n",
    "sns.set_palette(\"Set2\")\n",
    "%matplotlib inline"
   ]
  },
  {
   "cell_type": "code",
   "execution_count": null,
   "id": "518a1f93",
   "metadata": {},
   "outputs": [],
   "source": [
    "# Load the dataset\n",
    "df = pd.read_csv('synthetic_coffee_health_10000.csv')\n",
    "\n",
    "# Display basic information\n",
    "print(f\"Dataset shape: {df.shape}\")\n",
    "print(f\"\\nColumns: {list(df.columns)}\")\n",
    "print(\"\\nFirst 5 rows:\")\n",
    "df.head()"
   ]
  },
  {
   "cell_type": "code",
   "execution_count": null,
   "id": "6e8d9c52",
   "metadata": {},
   "outputs": [],
   "source": [
    "# Basic statistics\n",
    "df.describe()"
   ]
  },
  {
   "cell_type": "code",
   "execution_count": null,
   "id": "9f9bda0a",
   "metadata": {},
   "outputs": [],
   "source": [
    "# Check for missing values\n",
    "print(\"Missing values per column:\")\n",
    "print(df.isnull().sum())\n",
    "\n",
    "print(\"\\nData types:\")\n",
    "print(df.dtypes)"
   ]
  },
  {
   "cell_type": "markdown",
   "id": "e698921d",
   "metadata": {},
   "source": [
    "## Coffee Consumption Analysis"
   ]
  },
  {
   "cell_type": "code",
   "execution_count": null,
   "id": "345cf05d",
   "metadata": {},
   "outputs": [],
   "source": [
    "# Coffee consumption overview\n",
    "fig, axes = plt.subplots(2, 2, figsize=(15, 10))\n",
    "fig.suptitle('Coffee Consumption Overview', fontsize=16, fontweight='bold')\n",
    "\n",
    "# Coffee intake distribution\n",
    "axes[0, 0].hist(df['Coffee_Intake'], bins=30, alpha=0.7, color='brown', edgecolor='black')\n",
    "axes[0, 0].set_title('Coffee Intake Distribution')\n",
    "axes[0, 0].set_xlabel('Cups per day')\n",
    "axes[0, 0].set_ylabel('Frequency')\n",
    "\n",
    "# Caffeine distribution\n",
    "axes[0, 1].hist(df['Caffeine_mg'], bins=30, alpha=0.7, color='orange', edgecolor='black')\n",
    "axes[0, 1].set_title('Caffeine Intake Distribution')\n",
    "axes[0, 1].set_xlabel('Caffeine (mg)')\n",
    "axes[0, 1].set_ylabel('Frequency')\n",
    "\n",
    "# Coffee by gender\n",
    "coffee_by_gender = df.groupby('Gender')['Coffee_Intake'].mean()\n",
    "axes[1, 0].bar(coffee_by_gender.index, coffee_by_gender.values, color=['lightblue', 'lightpink'])\n",
    "axes[1, 0].set_title('Average Coffee Intake by Gender')\n",
    "axes[1, 0].set_ylabel('Cups per day')\n",
    "\n",
    "# Coffee by stress level\n",
    "stress_order = ['Low', 'Medium', 'High']\n",
    "coffee_by_stress = df.groupby('Stress_Level')['Coffee_Intake'].mean().reindex(stress_order)\n",
    "axes[1, 1].bar(coffee_by_stress.index, coffee_by_stress.values, color=['green', 'yellow', 'red'])\n",
    "axes[1, 1].set_title('Average Coffee Intake by Stress Level')\n",
    "axes[1, 1].set_ylabel('Cups per day')\n",
    "\n",
    "plt.tight_layout()\n",
    "plt.show()"
   ]
  },
  {
   "cell_type": "markdown",
   "id": "1b71f574",
   "metadata": {},
   "source": [
    "## Health Metrics Analysis"
   ]
  },
  {
   "cell_type": "code",
   "execution_count": null,
   "id": "d8ba3836",
   "metadata": {},
   "outputs": [],
   "source": [
    "# Health metrics overview\n",
    "fig, axes = plt.subplots(2, 2, figsize=(15, 10))\n",
    "fig.suptitle('Health Metrics Overview', fontsize=16, fontweight='bold')\n",
    "\n",
    "# Sleep hours\n",
    "axes[0, 0].hist(df['Sleep_Hours'], bins=25, alpha=0.7, color='blue', edgecolor='black')\n",
    "axes[0, 0].set_title('Sleep Hours Distribution')\n",
    "axes[0, 0].set_xlabel('Hours per night')\n",
    "axes[0, 0].set_ylabel('Frequency')\n",
    "\n",
    "# BMI\n",
    "axes[0, 1].hist(df['BMI'], bins=30, alpha=0.7, color='green', edgecolor='black')\n",
    "axes[0, 1].set_title('BMI Distribution')\n",
    "axes[0, 1].set_xlabel('BMI')\n",
    "axes[0, 1].set_ylabel('Frequency')\n",
    "\n",
    "# Heart rate\n",
    "axes[1, 0].hist(df['Heart_Rate'], bins=25, alpha=0.7, color='red', edgecolor='black')\n",
    "axes[1, 0].set_title('Heart Rate Distribution')\n",
    "axes[1, 0].set_xlabel('BPM')\n",
    "axes[1, 0].set_ylabel('Frequency')\n",
    "\n",
    "# Physical activity\n",
    "axes[1, 1].hist(df['Physical_Activity_Hours'], bins=25, alpha=0.7, color='purple', edgecolor='black')\n",
    "axes[1, 1].set_title('Physical Activity Distribution')\n",
    "axes[1, 1].set_xlabel('Hours per week')\n",
    "axes[1, 1].set_ylabel('Frequency')\n",
    "\n",
    "plt.tight_layout()\n",
    "plt.show()"
   ]
  },
  {
   "cell_type": "markdown",
   "id": "8431a74b",
   "metadata": {},
   "source": [
    "## Coffee vs Health Relationships"
   ]
  },
  {
   "cell_type": "code",
   "execution_count": null,
   "id": "2751fbef",
   "metadata": {},
   "outputs": [],
   "source": [
    "# Coffee vs health relationships\n",
    "fig, axes = plt.subplots(2, 2, figsize=(15, 10))\n",
    "fig.suptitle('Coffee vs Health Relationships', fontsize=16, fontweight='bold')\n",
    "\n",
    "# Coffee vs Sleep\n",
    "axes[0, 0].scatter(df['Coffee_Intake'], df['Sleep_Hours'], alpha=0.5, color='brown')\n",
    "axes[0, 0].set_xlabel('Coffee Intake (cups/day)')\n",
    "axes[0, 0].set_ylabel('Sleep Hours')\n",
    "axes[0, 0].set_title('Coffee Intake vs Sleep Hours')\n",
    "corr = df['Coffee_Intake'].corr(df['Sleep_Hours'])\n",
    "axes[0, 0].text(0.05, 0.95, f'Correlation: {corr:.3f}', transform=axes[0, 0].transAxes, \n",
    "                bbox=dict(boxstyle=\"round\", facecolor='white', alpha=0.8))\n",
    "\n",
    "# Coffee vs Heart Rate\n",
    "axes[0, 1].scatter(df['Coffee_Intake'], df['Heart_Rate'], alpha=0.5, color='red')\n",
    "axes[0, 1].set_xlabel('Coffee Intake (cups/day)')\n",
    "axes[0, 1].set_ylabel('Heart Rate (BPM)')\n",
    "axes[0, 1].set_title('Coffee Intake vs Heart Rate')\n",
    "corr = df['Coffee_Intake'].corr(df['Heart_Rate'])\n",
    "axes[0, 1].text(0.05, 0.95, f'Correlation: {corr:.3f}', transform=axes[0, 1].transAxes,\n",
    "                bbox=dict(boxstyle=\"round\", facecolor='white', alpha=0.8))\n",
    "\n",
    "# Coffee by sleep quality\n",
    "df.boxplot(column='Coffee_Intake', by='Sleep_Quality', ax=axes[1, 0])\n",
    "axes[1, 0].set_title('Coffee Intake by Sleep Quality')\n",
    "axes[1, 0].set_xlabel('Sleep Quality')\n",
    "axes[1, 0].set_ylabel('Coffee Intake (cups/day)')\n",
    "\n",
    "# Coffee by health issues\n",
    "df.boxplot(column='Coffee_Intake', by='Health_Issues', ax=axes[1, 1])\n",
    "axes[1, 1].set_title('Coffee Intake by Health Issues')\n",
    "axes[1, 1].set_xlabel('Health Issues')\n",
    "axes[1, 1].set_ylabel('Coffee Intake (cups/day)')\n",
    "axes[1, 1].tick_params(axis='x', rotation=45)\n",
    "\n",
    "plt.tight_layout()\n",
    "plt.show()"
   ]
  },
  {
   "cell_type": "markdown",
   "id": "6f21bc7c",
   "metadata": {},
   "source": [
    "## Correlation Analysis"
   ]
  },
  {
   "cell_type": "code",
   "execution_count": null,
   "id": "d2801c68",
   "metadata": {},
   "outputs": [],
   "source": [
    "# Correlation heatmap\n",
    "numerical_cols = ['Age', 'Coffee_Intake', 'Caffeine_mg', 'Sleep_Hours', 'BMI', \n",
    "                 'Heart_Rate', 'Physical_Activity_Hours', 'Smoking', 'Alcohol_Consumption']\n",
    "\n",
    "corr_matrix = df[numerical_cols].corr()\n",
    "\n",
    "plt.figure(figsize=(12, 8))\n",
    "sns.heatmap(corr_matrix, annot=True, cmap='coolwarm', center=0, \n",
    "            square=True, linewidths=0.5, fmt='.3f')\n",
    "plt.title('Correlation Matrix - Coffee Health Dataset', fontsize=16, fontweight='bold')\n",
    "plt.tight_layout()\n",
    "plt.show()"
   ]
  },
  {
   "cell_type": "markdown",
   "id": "de2ed7fa",
   "metadata": {},
   "source": [
    "## Key Insights"
   ]
  },
  {
   "cell_type": "code",
   "execution_count": null,
   "id": "1e16bb5c",
   "metadata": {},
   "outputs": [],
   "source": [
    "# Print key insights\n",
    "print(\"KEY INSIGHTS FROM THE COFFEE HEALTH DATASET\")\n",
    "print(\"=\" * 50)\n",
    "\n",
    "print(f\"\\n📊 Sample Size: {len(df):,} participants\")\n",
    "print(f\"🌍 Countries: {df['Country'].nunique()} different countries\")\n",
    "print(f\"👥 Age Range: {df['Age'].min()} - {df['Age'].max()} years\")\n",
    "\n",
    "print(f\"\\n☕ Coffee Consumption:\")\n",
    "print(f\"   Average: {df['Coffee_Intake'].mean():.2f} cups/day\")\n",
    "print(f\"   Range: {df['Coffee_Intake'].min():.1f} - {df['Coffee_Intake'].max():.1f} cups/day\")\n",
    "print(f\"   Average Caffeine: {df['Caffeine_mg'].mean():.1f} mg/day\")\n",
    "\n",
    "print(f\"\\n💤 Sleep Patterns:\")\n",
    "print(f\"   Average Sleep: {df['Sleep_Hours'].mean():.1f} hours/night\")\n",
    "print(f\"   Most Common Sleep Quality: {df['Sleep_Quality'].mode().iloc[0]}\")\n",
    "\n",
    "print(f\"\\n💪 Health Metrics:\")\n",
    "print(f\"   Average BMI: {df['BMI'].mean():.1f}\")\n",
    "print(f\"   Average Heart Rate: {df['Heart_Rate'].mean():.1f} BPM\")\n",
    "print(f\"   Average Physical Activity: {df['Physical_Activity_Hours'].mean():.1f} hours/week\")\n",
    "\n",
    "# Key correlations\n",
    "print(f\"\\n🔗 Key Correlations:\")\n",
    "corr_coffee_sleep = df['Coffee_Intake'].corr(df['Sleep_Hours'])\n",
    "corr_coffee_heart = df['Coffee_Intake'].corr(df['Heart_Rate'])\n",
    "corr_activity_bmi = df['Physical_Activity_Hours'].corr(df['BMI'])\n",
    "\n",
    "print(f\"   Coffee ↔ Sleep Hours: {corr_coffee_sleep:.3f}\")\n",
    "print(f\"   Coffee ↔ Heart Rate: {corr_coffee_heart:.3f}\")\n",
    "print(f\"   Physical Activity ↔ BMI: {corr_activity_bmi:.3f}\")\n",
    "\n",
    "# Health issues breakdown\n",
    "print(f\"\\n🏥 Health Issues Distribution:\")\n",
    "health_dist = df['Health_Issues'].value_counts(normalize=True) * 100\n",
    "for health, pct in health_dist.items():\n",
    "    print(f\"   {health}: {pct:.1f}%\")"
   ]
  },
  {
   "cell_type": "markdown",
   "id": "d3f5dd48",
   "metadata": {},
   "source": [
    "## Custom Analysis\n",
    "\n",
    "Use the cells below to create your own custom visualizations and analysis!"
   ]
  },
  {
   "cell_type": "code",
   "execution_count": null,
   "id": "10508d67",
   "metadata": {},
   "outputs": [],
   "source": [
    "# Your custom analysis here"
   ]
  }
 ],
 "metadata": {
  "language_info": {
   "name": "python"
  }
 },
 "nbformat": 4,
 "nbformat_minor": 5
}
